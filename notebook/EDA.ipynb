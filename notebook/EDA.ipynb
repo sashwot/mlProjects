{
 "cells": [
  {
   "cell_type": "code",
   "execution_count": 1,
   "metadata": {},
   "outputs": [],
   "source": [
    "import pandas as pd\n",
    "import numpy as np\n",
    "import seaborn as sns"
   ]
  },
  {
   "cell_type": "code",
   "execution_count": 14,
   "metadata": {},
   "outputs": [],
   "source": [
    "import matplotlib.pyplot as plt\n"
   ]
  },
  {
   "cell_type": "code",
   "execution_count": 2,
   "metadata": {},
   "outputs": [],
   "source": [
    "df = pd.read_csv('/Users/sashwotkoirala/Desktop/MDS/Prep/ML/notebook/dataVII.csv')"
   ]
  },
  {
   "cell_type": "code",
   "execution_count": 3,
   "metadata": {},
   "outputs": [
    {
     "data": {
      "text/html": [
       "<div>\n",
       "<style scoped>\n",
       "    .dataframe tbody tr th:only-of-type {\n",
       "        vertical-align: middle;\n",
       "    }\n",
       "\n",
       "    .dataframe tbody tr th {\n",
       "        vertical-align: top;\n",
       "    }\n",
       "\n",
       "    .dataframe thead th {\n",
       "        text-align: right;\n",
       "    }\n",
       "</style>\n",
       "<table border=\"1\" class=\"dataframe\">\n",
       "  <thead>\n",
       "    <tr style=\"text-align: right;\">\n",
       "      <th></th>\n",
       "      <th>Close</th>\n",
       "      <th>High</th>\n",
       "      <th>Low</th>\n",
       "      <th>Open</th>\n",
       "      <th>Volume</th>\n",
       "    </tr>\n",
       "  </thead>\n",
       "  <tbody>\n",
       "    <tr>\n",
       "      <th>0</th>\n",
       "      <td>AAPL</td>\n",
       "      <td>AAPL</td>\n",
       "      <td>AAPL</td>\n",
       "      <td>AAPL</td>\n",
       "      <td>AAPL</td>\n",
       "    </tr>\n",
       "    <tr>\n",
       "      <th>1</th>\n",
       "      <td>6.4403300285339355</td>\n",
       "      <td>6.455075825369143</td>\n",
       "      <td>6.391277552762015</td>\n",
       "      <td>6.422875746236436</td>\n",
       "      <td>493729600</td>\n",
       "    </tr>\n",
       "    <tr>\n",
       "      <th>2</th>\n",
       "      <td>6.451465129852295</td>\n",
       "      <td>6.48787840981577</td>\n",
       "      <td>6.417458990809972</td>\n",
       "      <td>6.458085872315779</td>\n",
       "      <td>601904800</td>\n",
       "    </tr>\n",
       "    <tr>\n",
       "      <th>3</th>\n",
       "      <td>6.348847389221191</td>\n",
       "      <td>6.477046253588525</td>\n",
       "      <td>6.342226645342805</td>\n",
       "      <td>6.4514665085786</td>\n",
       "      <td>552160000</td>\n",
       "    </tr>\n",
       "    <tr>\n",
       "      <th>4</th>\n",
       "      <td>6.337109088897705</td>\n",
       "      <td>6.379842571822461</td>\n",
       "      <td>6.2910660382072985</td>\n",
       "      <td>6.372319000569361</td>\n",
       "      <td>477131200</td>\n",
       "    </tr>\n",
       "  </tbody>\n",
       "</table>\n",
       "</div>"
      ],
      "text/plain": [
       "                Close               High                 Low  \\\n",
       "0                AAPL               AAPL                AAPL   \n",
       "1  6.4403300285339355  6.455075825369143   6.391277552762015   \n",
       "2   6.451465129852295   6.48787840981577   6.417458990809972   \n",
       "3   6.348847389221191  6.477046253588525   6.342226645342805   \n",
       "4   6.337109088897705  6.379842571822461  6.2910660382072985   \n",
       "\n",
       "                Open     Volume  \n",
       "0               AAPL       AAPL  \n",
       "1  6.422875746236436  493729600  \n",
       "2  6.458085872315779  601904800  \n",
       "3    6.4514665085786  552160000  \n",
       "4  6.372319000569361  477131200  "
      ]
     },
     "execution_count": 3,
     "metadata": {},
     "output_type": "execute_result"
    }
   ],
   "source": [
    "df.head()"
   ]
  },
  {
   "cell_type": "code",
   "execution_count": 4,
   "metadata": {},
   "outputs": [
    {
     "name": "stdout",
     "output_type": "stream",
     "text": [
      "<class 'pandas.core.frame.DataFrame'>\n",
      "RangeIndex: 3832 entries, 0 to 3831\n",
      "Data columns (total 5 columns):\n",
      " #   Column  Non-Null Count  Dtype \n",
      "---  ------  --------------  ----- \n",
      " 0   Close   3832 non-null   object\n",
      " 1   High    3832 non-null   object\n",
      " 2   Low     3832 non-null   object\n",
      " 3   Open    3832 non-null   object\n",
      " 4   Volume  3832 non-null   object\n",
      "dtypes: object(5)\n",
      "memory usage: 149.8+ KB\n"
     ]
    }
   ],
   "source": [
    "df.info()"
   ]
  },
  {
   "cell_type": "code",
   "execution_count": 6,
   "metadata": {},
   "outputs": [],
   "source": [
    "columns = df.columns.to_list()"
   ]
  },
  {
   "cell_type": "markdown",
   "metadata": {},
   "source": [
    "### Checking For missing values"
   ]
  },
  {
   "cell_type": "code",
   "execution_count": 9,
   "metadata": {},
   "outputs": [
    {
     "name": "stdout",
     "output_type": "stream",
     "text": [
      "Close has 0 missing values.\n",
      "High has 0 missing values.\n",
      "Low has 0 missing values.\n",
      "Open has 0 missing values.\n",
      "Volume has 0 missing values.\n"
     ]
    }
   ],
   "source": [
    "for col in columns:\n",
    "    print(str(col) + ' ' +'has' +' ' + str(df[col].isna().sum()) + ' '+ 'missing values.' )"
   ]
  },
  {
   "cell_type": "code",
   "execution_count": 13,
   "metadata": {},
   "outputs": [
    {
     "name": "stdout",
     "output_type": "stream",
     "text": [
      "                     Close  High                 Low  Open    Volume\n",
      "count                 3832  3832                3832  3832      3832\n",
      "unique                3780  3832                3831  3832      3823\n",
      "top     162.12503051757812  AAPL  171.24141844268888  AAPL  90956700\n",
      "freq                     2     1                   2     1         2\n"
     ]
    }
   ],
   "source": [
    "print(df.describe())"
   ]
  },
  {
   "cell_type": "markdown",
   "metadata": {},
   "source": [
    "## Checking for annamolies in dataset"
   ]
  },
  {
   "cell_type": "code",
   "execution_count": 16,
   "metadata": {},
   "outputs": [
    {
     "data": {
      "image/png": "[encoded data removed]",
      "text/plain": [
       "<Figure size 500x500 with 5 Axes>"
      ]
     },
     "metadata": {},
     "output_type": "display_data"
    }
   ],
   "source": [
    "fig, axis = plt.subplots(len(columns), figsize=(5,5))\n",
    "for i in range(len(columns)):\n",
    "    sns.boxplot(df[columns[i]], ax = axis[i], orient = 'h', color='g' )\n",
    "    \n"
   ]
  },
  {
   "cell_type": "markdown",
   "metadata": {},
   "source": [
    "### Hence I didn't detected any anamolies or missing values in the dataset"
   ]
  },
  {
   "cell_type": "markdown",
   "metadata": {},
   "source": [
    "### Checking for categorical columns in this dataset"
   ]
  },
  {
   "cell_type": "code",
   "execution_count": 20,
   "metadata": {},
   "outputs": [
    {
     "name": "stdout",
     "output_type": "stream",
     "text": [
      "Close has Close\n",
      "162.12503051757812    2\n",
      "41.55984115600586     2\n",
      "11.574600219726562    2\n",
      "166.18719482421875    2\n",
      "25.428529739379883    2\n",
      "                     ..\n",
      "28.686443328857422    1\n",
      "28.920936584472656    1\n",
      "29.70258331298828     1\n",
      "29.517223358154297    1\n",
      "221.52999877929688    1\n",
      "Name: count, Length: 3780, dtype: int64 different values.\n",
      "High has High\n",
      "AAPL                  1\n",
      "73.62881987433597     1\n",
      "79.10850246780329     1\n",
      "77.5966134445047      1\n",
      "78.76632223582008     1\n",
      "                     ..\n",
      "26.80742435514557     1\n",
      "26.850690149029983    1\n",
      "26.855152412118425    1\n",
      "26.76358984334251     1\n",
      "225.02000427246094    1\n",
      "Name: count, Length: 3832, dtype: int64 different values.\n",
      "Low has Low\n",
      "171.24141844268888    2\n",
      "AAPL                  1\n",
      "78.01402569685219     1\n",
      "78.34891601878451     1\n",
      "76.34923977828454     1\n",
      "                     ..\n",
      "26.318033804564546    1\n",
      "26.631828253102775    1\n",
      "26.45316192316014     1\n",
      "26.448698683016357    1\n",
      "220.47000122070312    1\n",
      "Name: count, Length: 3831, dtype: int64 different values.\n",
      "Open has Open\n",
      "AAPL                  1\n",
      "71.93977581539738     1\n",
      "78.80757547409223     1\n",
      "76.5312490357775      1\n",
      "77.65727746459481     1\n",
      "                     ..\n",
      "26.360299807261427    1\n",
      "26.803789832587974    1\n",
      "26.80378629814129     1\n",
      "26.475498619496165    1\n",
      "223.50999450683594    1\n",
      "Name: count, Length: 3832, dtype: int64 different values.\n",
      "Volume has Volume\n",
      "90956700     2\n",
      "97918500     2\n",
      "146640000    2\n",
      "150347200    2\n",
      "391638800    2\n",
      "            ..\n",
      "280598800    1\n",
      "168984800    1\n",
      "174826400    1\n",
      "155559200    1\n",
      "34532700     1\n",
      "Name: count, Length: 3823, dtype: int64 different values.\n"
     ]
    }
   ],
   "source": [
    "for col in columns:\n",
    "    print(str(col) + ' ' + 'has' + ' ' + str(df[col].value_counts()) + ' ' + 'different values.')"
   ]
  },
  {
   "cell_type": "code",
   "execution_count": null,
   "metadata": {},
   "outputs": [],
   "source": []
  }
 ],
 "metadata": {
  "kernelspec": {
   "display_name": "project",
   "language": "python",
   "name": "python3"
  },
  "language_info": {
   "codemirror_mode": {
    "name": "ipython",
    "version": 3
   },
   "file_extension": ".py",
   "mimetype": "text/x-python",
   "name": "python",
   "nbconvert_exporter": "python",
   "pygments_lexer": "ipython3",
   "version": "3.12.9"
  }
 },
 "nbformat": 4,
 "nbformat_minor": 2
}
